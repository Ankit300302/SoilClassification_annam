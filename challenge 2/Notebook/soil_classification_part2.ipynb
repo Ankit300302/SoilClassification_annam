{
 "cells": [
  {
   "cell_type": "code",
   "execution_count": null,
   "id": "7879571a-816e-4047-8092-3bd133059389",
   "metadata": {},
   "outputs": [
    {
     "name": "stderr",
     "output_type": "stream",
     "text": [
      "C:\\Users\\LENOVO FLEX\\AppData\\Roaming\\Python\\Python312\\site-packages\\torchvision\\models\\_utils.py:208: UserWarning: The parameter 'pretrained' is deprecated since 0.13 and may be removed in the future, please use 'weights' instead.\n",
      "  warnings.warn(\n",
      "C:\\Users\\LENOVO FLEX\\AppData\\Roaming\\Python\\Python312\\site-packages\\torchvision\\models\\_utils.py:223: UserWarning: Arguments other than a weight enum or `None` for 'weights' are deprecated since 0.13 and may be removed in the future. The current behavior is equivalent to passing `weights=ResNet50_Weights.IMAGENET1K_V1`. You can also use `weights=ResNet50_Weights.DEFAULT` to get the most up-to-date weights.\n",
      "  warnings.warn(msg)\n"
     ]
    },
    {
     "name": "stdout",
     "output_type": "stream",
     "text": [
      "🔍 Extracting features from soil images...\n"
     ]
    },
    {
     "name": "stderr",
     "output_type": "stream",
     "text": [
      "100%|██████████| 1222/1222 [01:43<00:00, 11.81it/s]\n"
     ]
    },
    {
     "name": "stdout",
     "output_type": "stream",
     "text": [
      "🧠 Training One-Class SVM...\n",
      "🔍 Predicting on test set...\n"
     ]
    },
    {
     "name": "stderr",
     "output_type": "stream",
     "text": [
      "100%|██████████| 967/967 [01:18<00:00, 12.40it/s]"
     ]
    },
    {
     "name": "stdout",
     "output_type": "stream",
     "text": [
      "✅ submission.csv created successfully.\n"
     ]
    },
    {
     "name": "stderr",
     "output_type": "stream",
     "text": [
      "\n"
     ]
    }
   ],
   "source": [
    "import os\n",
    "import pandas as pd\n",
    "import numpy as np\n",
    "from PIL import Image\n",
    "from tqdm import tqdm\n",
    "from sklearn.svm import OneClassSVM\n",
    "from sklearn.preprocessing import StandardScaler\n",
    "from torchvision import models, transforms\n",
    "import torch\n",
    "\n",
    "# === CONFIG ===\n",
    "TRAIN_CSV = r\"C:\\Users\\LENOVO FLEX\\Downloads\\soil-classification-part-2\\soil_competition-2025\\train_labels.csv\"\n",
    "TEST_IDS_CSV = r\"C:\\Users\\LENOVO FLEX\\Downloads\\soil-classification-part-2\\soil_competition-2025\\test_ids.csv\"\n",
    "TRAIN_IMG_DIR = r\"C:\\Users\\LENOVO FLEX\\Downloads\\soil-classification-part-2\\soil_competition-2025\\data\\train\"\n",
    "TEST_IMG_DIR = r\"C:\\Users\\LENOVO FLEX\\Downloads\\soil-classification-part-2\\soil_competition-2025\\data\\test\"\n",
    "DEVICE = torch.device('cuda' if torch.cuda.is_available() else 'cpu')\n",
    "\n",
    "# === Load CSV ===\n",
    "df_train = pd.read_csv(TRAIN_CSV)\n",
    "df_test_ids = pd.read_csv(TEST_IDS_CSV)\n",
    "\n",
    "# === Image Preprocessing ===\n",
    "transform = transforms.Compose([\n",
    "    transforms.Resize((224, 224)),\n",
    "    transforms.ToTensor(), \n",
    "    transforms.Normalize(mean=[0.485, 0.456, 0.406],\n",
    "                         std=[0.229, 0.224, 0.225])\n",
    "])\n",
    "\n",
    "# === Load Pretrained ResNet50 (feature extractor) ===\n",
    "model = models.resnet50(pretrained=True)\n",
    "model.fc = torch.nn.Identity()\n",
    "model.eval().to(DEVICE)\n",
    "\n",
    "def extract_features(image_path):\n",
    "    try:\n",
    "        image = Image.open(image_path).convert('RGB')\n",
    "        image_tensor = transform(image).unsqueeze(0).to(DEVICE)\n",
    "        with torch.no_grad():\n",
    "            features = model(image_tensor).cpu().numpy().flatten()\n",
    "        return features\n",
    "    except Exception as e:\n",
    "        print(f\" Error with {image_path}: {e}\")\n",
    "        return None\n",
    "\n",
    "# === Extract soil features ===\n",
    "soil_features = []\n",
    "print(\"🔍 Extracting features from soil images...\")\n",
    "for image_id in tqdm(df_train['image_id']):\n",
    "    filename = f\"{image_id}\"\n",
    "    img_path = os.path.join(TRAIN_IMG_DIR, filename)\n",
    "    feat = extract_features(img_path)\n",
    "    if feat is not None:\n",
    "        soil_features.append(feat)\n",
    "\n",
    "soil_features = np.array(soil_features)\n",
    "\n",
    "# === Scale features ===\n",
    "scaler = StandardScaler()\n",
    "soil_features_scaled = scaler.fit_transform(soil_features)\n",
    "\n",
    "# === Train One-Class SVM ===\n",
    "print(\" Training One-Class SVM...\")\n",
    "svm = OneClassSVM(kernel='rbf', gamma='auto', nu=0.1)\n",
    "svm.fit(soil_features_scaled)\n",
    "\n",
    "# === Predict on test images ===\n",
    "print(\" Predicting on test set...\")\n",
    "results = []\n",
    "\n",
    "for img_id in tqdm(df_test_ids['image_id']):\n",
    "    filename = f\"{img_id}\"\n",
    "    img_path = os.path.join(TEST_IMG_DIR, filename)\n",
    "    feat = extract_features(img_path)\n",
    "    if feat is None:\n",
    "        continue\n",
    "    feat_scaled = scaler.transform([feat])\n",
    "    pred = svm.predict(feat_scaled)[0]\n",
    "    label = 1 if pred == 1 else 0\n",
    "    results.append({'image_id': img_id, 'label': label})\n",
    "\n",
    "# === Save predictions ===\n",
    "output_df = pd.DataFrame(results)\n",
    "output_df.to_csv(r\"C:\\Users\\LENOVO FLEX\\Downloads\\soil-classification-part-2\\soil_competition-2025\\final_submission_revised.csv\", index=False)\n",
    "print(\" submission.csv created successfully.\")\n"
   ]
  },
  {
   "cell_type": "code",
   "execution_count": null,
   "id": "ac16a571-d72c-433b-9192-a112050845a5",
   "metadata": {},
   "outputs": [],
   "source": []
  }
 ],
 "metadata": {
  "kernelspec": {
   "display_name": "Python 3 (ipykernel)",
   "language": "python",
   "name": "python3"
  },
  "language_info": {
   "codemirror_mode": {
    "name": "ipython",
    "version": 3
   },
   "file_extension": ".py",
   "mimetype": "text/x-python",
   "name": "python",
   "nbconvert_exporter": "python",
   "pygments_lexer": "ipython3",
   "version": "3.12.7"
  }
 },
 "nbformat": 4,
 "nbformat_minor": 5
}
